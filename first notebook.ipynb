{
    "cells": [
        {
            "cell_type": "code",
            "execution_count": 1,
            "metadata": {},
            "outputs": [
                {
                    "name": "stdout",
                    "output_type": "stream",
                    "text": "hey\n"
                }
            ],
            "source": "print(\"hey\")"
        },
        {
            "cell_type": "code",
            "execution_count": 2,
            "metadata": {},
            "outputs": [
                {
                    "data": {
                        "text/html": "<div>\n<style scoped>\n    .dataframe tbody tr th:only-of-type {\n        vertical-align: middle;\n    }\n\n    .dataframe tbody tr th {\n        vertical-align: top;\n    }\n\n    .dataframe thead th {\n        text-align: right;\n    }\n</style>\n<table border=\"1\" class=\"dataframe\">\n  <thead>\n    <tr style=\"text-align: right;\">\n      <th></th>\n      <th>Unnamed: 0</th>\n      <th>\u064a\u0646\u0627\u064a\u0631 2020</th>\n      <th>Unnamed: 2</th>\n      <th>Unnamed: 3</th>\n      <th>Unnamed: 4</th>\n      <th>Unnamed: 5</th>\n      <th>Unnamed: 6</th>\n      <th>Unnamed: 7</th>\n      <th>Unnamed: 8</th>\n      <th>\u0625\u0639\u062f\u0627\u062f\u0627\u062a \u0627\u0644\u062a\u0642\u0648\u064a\u0645</th>\n      <th>Unnamed: 10</th>\n    </tr>\n  </thead>\n  <tbody>\n    <tr>\n      <th>0</th>\n      <td>NaN</td>\n      <td>\u0627\u0644\u0623\u062d\u062f</td>\n      <td>MONDAY</td>\n      <td>TUESDAY</td>\n      <td>WEDNESDAY</td>\n      <td>THURSDAY</td>\n      <td>FRIDAY</td>\n      <td>SATURDAY</td>\n      <td>NaN</td>\n      <td>\u0627\u0644\u0633\u0646\u0629</td>\n      <td>2020</td>\n    </tr>\n    <tr>\n      <th>1</th>\n      <td>NaN</td>\n      <td>2019-12-29 00:00:00</td>\n      <td>2019-12-30 00:00:00</td>\n      <td>2019-12-31 00:00:00</td>\n      <td>2020-01-01 00:00:00</td>\n      <td>2020-01-02 00:00:00</td>\n      <td>2020-01-03 00:00:00</td>\n      <td>2020-01-04 00:00:00</td>\n      <td>NaN</td>\n      <td>\u0628\u062f\u0627\u064a\u0629 \u0627\u0644\u0623\u0633\u0628\u0648\u0639</td>\n      <td>\u0627\u0644\u0623\u062d\u062f</td>\n    </tr>\n    <tr>\n      <th>2</th>\n      <td>NaN</td>\n      <td>NaN</td>\n      <td>NaN</td>\n      <td>NaN</td>\n      <td>NaN</td>\n      <td>NaN</td>\n      <td>NaN</td>\n      <td>NaN</td>\n      <td>NaN</td>\n      <td>NaN</td>\n      <td>NaN</td>\n    </tr>\n    <tr>\n      <th>3</th>\n      <td>NaN</td>\n      <td>2020-01-05 00:00:00</td>\n      <td>2020-01-06 00:00:00</td>\n      <td>2020-01-07 00:00:00</td>\n      <td>2020-01-08 00:00:00</td>\n      <td>2020-01-09 00:00:00</td>\n      <td>2020-01-10 00:00:00</td>\n      <td>2020-01-11 00:00:00</td>\n      <td>NaN</td>\n      <td>NaN</td>\n      <td>NaN</td>\n    </tr>\n    <tr>\n      <th>4</th>\n      <td>NaN</td>\n      <td>NaN</td>\n      <td>NaN</td>\n      <td>NaN</td>\n      <td>NaN</td>\n      <td>NaN</td>\n      <td>NaN</td>\n      <td>NaN</td>\n      <td>NaN</td>\n      <td>NaN</td>\n      <td>NaN</td>\n    </tr>\n  </tbody>\n</table>\n</div>",
                        "text/plain": "   Unnamed: 0           \u064a\u0646\u0627\u064a\u0631 2020           Unnamed: 2           Unnamed: 3  \\\n0         NaN                \u0627\u0644\u0623\u062d\u062f               MONDAY              TUESDAY   \n1         NaN  2019-12-29 00:00:00  2019-12-30 00:00:00  2019-12-31 00:00:00   \n2         NaN                  NaN                  NaN                  NaN   \n3         NaN  2020-01-05 00:00:00  2020-01-06 00:00:00  2020-01-07 00:00:00   \n4         NaN                  NaN                  NaN                  NaN   \n\n            Unnamed: 4           Unnamed: 5           Unnamed: 6  \\\n0            WEDNESDAY             THURSDAY               FRIDAY   \n1  2020-01-01 00:00:00  2020-01-02 00:00:00  2020-01-03 00:00:00   \n2                  NaN                  NaN                  NaN   \n3  2020-01-08 00:00:00  2020-01-09 00:00:00  2020-01-10 00:00:00   \n4                  NaN                  NaN                  NaN   \n\n            Unnamed: 7  Unnamed: 8 \u0625\u0639\u062f\u0627\u062f\u0627\u062a \u0627\u0644\u062a\u0642\u0648\u064a\u0645 Unnamed: 10  \n0             SATURDAY         NaN           \u0627\u0644\u0633\u0646\u0629        2020  \n1  2020-01-04 00:00:00         NaN   \u0628\u062f\u0627\u064a\u0629 \u0627\u0644\u0623\u0633\u0628\u0648\u0639       \u0627\u0644\u0623\u062d\u062f  \n2                  NaN         NaN             NaN         NaN  \n3  2020-01-11 00:00:00         NaN             NaN         NaN  \n4                  NaN         NaN             NaN         NaN  "
                    },
                    "execution_count": 2,
                    "metadata": {},
                    "output_type": "execute_result"
                }
            ],
            "source": ""
        },
        {
            "cell_type": "code",
            "execution_count": null,
            "metadata": {},
            "outputs": [],
            "source": ""
        }
    ],
    "metadata": {
        "kernelspec": {
            "display_name": "Python 3.6",
            "language": "python",
            "name": "python3"
        },
        "language_info": {
            "codemirror_mode": {
                "name": "ipython",
                "version": 3
            },
            "file_extension": ".py",
            "mimetype": "text/x-python",
            "name": "python",
            "nbconvert_exporter": "python",
            "pygments_lexer": "ipython3",
            "version": "3.6.9"
        }
    },
    "nbformat": 4,
    "nbformat_minor": 1
}